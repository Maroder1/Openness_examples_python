{
 "cells": [
  {
   "cell_type": "markdown",
   "metadata": {},
   "source": [
    "## How to attach to TIA and download "
   ]
  },
  {
   "cell_type": "markdown",
   "metadata": {},
   "source": [
    "The following code demonstrates how to download to a PLC. \n",
    "\n",
    "In this example I used PLCsim:\n",
    "1. Right click the projectname in the project tree and click properties\n",
    "2. Select the Protection Tab\n",
    "3. Check \"Support simulation during block compilation\n",
    "4. Start PLCsim\n",
    "\n",
    "The code is written for demonstration purposes. If you want to download to a real PLC look at the print outs and change accordingly to match the desired interface"
   ]
  },
  {
   "cell_type": "code",
   "execution_count": 1,
   "metadata": {},
   "outputs": [],
   "source": [
    "import clr\n",
    "clr.AddReference('C:\\\\Program Files\\\\Siemens\\\\Automation\\\\Portal V16\\PublicAPI\\\\V16\\\\Siemens.Engineering.dll')\n",
    "from System.IO import DirectoryInfo, FileInfo\n",
    "import Siemens.Engineering as tia\n",
    "import Siemens.Engineering.Download as dl\n",
    "\n"
   ]
  },
  {
   "cell_type": "code",
   "execution_count": 2,
   "metadata": {},
   "outputs": [
    {
     "name": "stdout",
     "output_type": "stream",
     "text": [
      "[<Siemens.Engineering.TiaPortalProcess object at 0x000002261EBF2E48>]\n"
     ]
    }
   ],
   "source": [
    "# Connecting to a running instance of TIA with an open project\n",
    "\n",
    "processes = tia.TiaPortal.GetProcesses() # Making a list of all running processes\n",
    "print (processes)\n",
    "process = processes[0]                   # Just taking the first process as an example\n",
    "mytia = process.Attach()\n",
    "myproject = mytia.Projects[0]\n"
   ]
  },
  {
   "cell_type": "code",
   "execution_count": 3,
   "metadata": {},
   "outputs": [
    {
     "name": "stdout",
     "output_type": "stream",
     "text": [
      "PN/IE\n"
     ]
    }
   ],
   "source": [
    "# Getting the downloadprovider of the first PLC. NOTE change this by iterating over devices in a real project\n",
    "# Iterating through all available  \n",
    "download_provider = tia.IEngineeringServiceProvider(myproject.Devices[0].DeviceItems[1]).GetService[dl.DownloadProvider]()\n",
    "configuration = download_provider.Configuration\n",
    "for i in configuration.Modes:\n",
    "    print (i.Name)\n"
   ]
  },
  {
   "cell_type": "code",
   "execution_count": 4,
   "metadata": {},
   "outputs": [
    {
     "name": "stdout",
     "output_type": "stream",
     "text": [
      "PN/IE\n"
     ]
    }
   ],
   "source": [
    "# accessing directly first element, and printing to verify Change to other if needed\n",
    "configuration_mode = configuration.Modes[0] \n",
    "print(configuration_mode.Name)\n"
   ]
  },
  {
   "cell_type": "code",
   "execution_count": 5,
   "metadata": {},
   "outputs": [
    {
     "name": "stdout",
     "output_type": "stream",
     "text": [
      "PLCSIM\n"
     ]
    }
   ],
   "source": [
    "#Iterating to see available\n",
    "for i in configuration_mode.PcInterfaces:\n",
    "    print(i.Name)"
   ]
  },
  {
   "cell_type": "code",
   "execution_count": 6,
   "metadata": {},
   "outputs": [
    {
     "name": "stdout",
     "output_type": "stream",
     "text": [
      "1 X1\n"
     ]
    }
   ],
   "source": [
    "#Accessing first elements directly, change if needed.\n",
    "target_configuration = configuration_mode.PcInterfaces[0].TargetInterfaces[0]\n",
    "print(target_configuration.Name)"
   ]
  },
  {
   "cell_type": "code",
   "execution_count": 7,
   "metadata": {},
   "outputs": [],
   "source": [
    "def PreConfigureDownload(downloadConfiguration):\n",
    "   \n",
    "    if (type(downloadConfiguration) is dl.Configurations.StopModules):\n",
    "        if (downloadConfiguration != None):\n",
    "            downloadConfiguration.CurrentSelection = dl.Configurations.StopModulesSelections.StopAll\n",
    "    \n",
    "    if (type(downloadConfiguration) is dl.Configurations.AlarmTextLibrariesDownload):\n",
    "        if (downloadConfiguration != None):\n",
    "            downloadConfiguration.CurrentSelection = dl.Configurations.AlarmTextLibrariesDownloadSelections.ConsistentDownload\n",
    "\n",
    "    if (type(downloadConfiguration) is dl.Configurations.BlockBindingPassword):\n",
    "        if (downloadConfiguration != None):\n",
    "            password = None #update if applicable\n",
    "            downloadConfiguration.SetPassword(password)                        \n",
    "\n",
    "    if (type(downloadConfiguration) is dl.Configurations.CheckBeforeDownload):\n",
    "        if (downloadConfiguration != None):\n",
    "            downloadConfiguration.Checked = true\n",
    "\n",
    "    if (type(downloadConfiguration) is dl.Configurations.ConsistentBlocksDownload):\n",
    "        if (downloadConfiguration != None):\n",
    "            downloadConfiguration.CurrentSelection = dl.Configurations.ConsistentBlocksDownloadSelections.ConsistentDownload\n",
    "\n",
    "    if (type(downloadConfiguration) is dl.Configurations.ModuleWriteAccessPassword):\n",
    "        if (downloadConfiguration != None):\n",
    "            password = None;  #update if applicable\n",
    "            downloadConfiguration.SetPassword(password)\n",
    "\n",
    "    "
   ]
  },
  {
   "cell_type": "code",
   "execution_count": 8,
   "metadata": {},
   "outputs": [],
   "source": [
    "def PostConfigureDownload(downloadConfiguration):\n",
    "    \n",
    "    if (type(downloadConfiguration) is dl.Configurations.StartModules):\n",
    "        if (downloadConfiguration != None):\n",
    "            downloadConfiguration.CurrentSelection = dl.Configurations.StartModulesSelections.StartModule\n",
    "   "
   ]
  },
  {
   "cell_type": "code",
   "execution_count": 9,
   "metadata": {},
   "outputs": [],
   "source": [
    "\n",
    "pre = dl.DownloadConfigurationDelegate(PreConfigureDownload)\n",
    "post = dl.DownloadConfigurationDelegate(PostConfigureDownload)\n",
    "result = download_provider.Download(target_configuration,pre, post, dl.DownloadOptions.Hardware | dl.DownloadOptions.Software )"
   ]
  },
  {
   "cell_type": "code",
   "execution_count": null,
   "metadata": {},
   "outputs": [],
   "source": []
  },
  {
   "cell_type": "code",
   "execution_count": null,
   "metadata": {},
   "outputs": [],
   "source": []
  },
  {
   "cell_type": "code",
   "execution_count": null,
   "metadata": {},
   "outputs": [],
   "source": []
  },
  {
   "cell_type": "code",
   "execution_count": null,
   "metadata": {},
   "outputs": [],
   "source": []
  }
 ],
 "metadata": {
  "kernelspec": {
   "display_name": "Python [conda env:openness_examples_python]",
   "language": "python",
   "name": "conda-env-openness_examples_python-py"
  },
  "language_info": {
   "codemirror_mode": {
    "name": "ipython",
    "version": 3
   },
   "file_extension": ".py",
   "mimetype": "text/x-python",
   "name": "python",
   "nbconvert_exporter": "python",
   "pygments_lexer": "ipython3",
   "version": "3.7.6"
  }
 },
 "nbformat": 4,
 "nbformat_minor": 2
}
