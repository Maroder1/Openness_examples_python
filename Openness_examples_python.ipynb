{
 "cells": [
  {
   "cell_type": "code",
   "execution_count": 1,
   "metadata": {},
   "outputs": [],
   "source": [
    "import clr\n",
    "clr.AddReference('C:\\\\Program Files\\\\Siemens\\\\Automation\\\\Portal V16\\PublicAPI\\\\V16\\\\Siemens.Engineering.dll')\n",
    "from System.IO import DirectoryInfo, FileInfo\n",
    "import Siemens.Engineering as tia\n",
    "import Siemens.Engineering.HW.Features as hwf\n",
    "import Siemens.Engineering.Compiler as comp\n",
    "import Siemens.Engineering.Download as dl\n",
    "import os\n"
   ]
  },
  {
   "cell_type": "markdown",
   "metadata": {},
   "source": [
    "\n",
    "# Starting TIA and creating project\n"
   ]
  },
  {
   "cell_type": "code",
   "execution_count": 2,
   "metadata": {},
   "outputs": [
    {
     "name": "stdout",
     "output_type": "stream",
     "text": [
      "Starting TIA with UI\n"
     ]
    }
   ],
   "source": [
    "#Starting TIA with UI, also possible to start without ui\n",
    "print ('Starting TIA with UI')\n",
    "mytia = tia.TiaPortal(tia.TiaPortalMode.WithUserInterface)\n"
   ]
  },
  {
   "cell_type": "code",
   "execution_count": 3,
   "metadata": {},
   "outputs": [
    {
     "name": "stdout",
     "output_type": "stream",
     "text": [
      "[<Siemens.Engineering.TiaPortalProcess object at 0x0000024775418608>]\n"
     ]
    }
   ],
   "source": [
    "# Alternative code to connect to an allready running instance (uncomment to use)\n",
    "\n",
    "processes = tia.TiaPortal.GetProcesses() # Making a list of all running processes\n",
    "print (processes)\n",
    "#process = processes[0]                   # Just taking the first process as an example\n",
    "#mytia = process.Attach()\n",
    "#myproject = mytia.Projects[0]\n"
   ]
  },
  {
   "cell_type": "code",
   "execution_count": 4,
   "metadata": {},
   "outputs": [],
   "source": [
    "# Creating a new project. Using try/except in case project allready exists\n",
    "\n",
    "project_path = DirectoryInfo ('C:\\\\Jonas\\\\TIA')\n",
    "project_name = 'PythonTest'\n",
    "try:\n",
    "    myproject = mytia.Projects.Create(project_path, project_name)\n",
    "except Exception as e:\n",
    "    print (e)"
   ]
  },
  {
   "cell_type": "markdown",
   "metadata": {},
   "source": [
    "# Adding HW to the project"
   ]
  },
  {
   "cell_type": "code",
   "execution_count": 5,
   "metadata": {},
   "outputs": [
    {
     "name": "stdout",
     "output_type": "stream",
     "text": [
      "Creating PLC1\n",
      "Creating IOnode1\n",
      "Creating HMI1\n"
     ]
    }
   ],
   "source": [
    "#Adding the main components\n",
    "\n",
    "print ('Creating PLC1')\n",
    "PLC1_mlfb = 'OrderNumber:6ES7 513-1AL02-0AB0/V2.6'\n",
    "PLC1 = myproject.Devices.CreateWithItem(PLC1_mlfb, 'PLC1', 'PLC1')\n",
    "\n",
    "\n",
    "print ('Creating IOnode1')\n",
    "IOnode1_mlfb = 'OrderNumber:6ES7 155-6AU01-0BN0/V4.1'\n",
    "IOnode1 = myproject.Devices.CreateWithItem(IOnode1_mlfb, 'IOnode1', 'IOnode1')\n",
    "\n",
    "\n",
    "print ('Creating HMI1')\n",
    "HMI1_mlfb = 'OrderNumber:6AV2 124-0GC01-0AX0/15.1.0.0'\n",
    "HMI1 = myproject.Devices.CreateWithItem(HMI1_mlfb, 'HM1', None)\n",
    "\n",
    "#ToDo Add start screen to avoid compilation error fo the HMI"
   ]
  },
  {
   "cell_type": "code",
   "execution_count": 6,
   "metadata": {},
   "outputs": [],
   "source": [
    "# Adding IO cards to the PLC and IO station\n",
    "# This is basic to show how it works, use loops with checks (CanPlugNew) to see if the slot is available\n",
    "# CanPlugnew is not mandatory, but usefull in real code\n",
    "\n",
    "if (PLC1.DeviceItems[0].CanPlugNew('OrderNumber:6ES7 521-1BL00-0AB0/V2.1','IO1',2)): \n",
    "    PLC1.DeviceItems[0].PlugNew('OrderNumber:6ES7 521-1BL00-0AB0/V2.1','IO1', 2)\n",
    "\n",
    "    \n",
    "if (IOnode1.DeviceItems[0].CanPlugNew('OrderNumber:6ES7 131-6BH01-0BA0/V0.0','IO1',1)):\n",
    "    IOnode1.DeviceItems[0].PlugNew('OrderNumber:6ES7 131-6BH01-0BA0/V0.0','IO1', 1)\n",
    "\n",
    "\n"
   ]
  },
  {
   "cell_type": "markdown",
   "metadata": {},
   "source": [
    "# Creating network, iosytem and setting IP adresses\n"
   ]
  },
  {
   "cell_type": "code",
   "execution_count": 7,
   "metadata": {},
   "outputs": [],
   "source": [
    "#creating a list of all found network interfaces on all stations in the station list\n",
    "n_interfaces = []\n",
    "for device in myproject.Devices:\n",
    "    device_item_aggregation = device.DeviceItems[1].DeviceItems\n",
    "    for deviceitem in device_item_aggregation:\n",
    "        network_service = tia.IEngineeringServiceProvider(deviceitem).GetService[hwf.NetworkInterface]()\n",
    "        if type(network_service) is hwf.NetworkInterface:\n",
    "            n_interfaces.append(network_service)\n"
   ]
  },
  {
   "cell_type": "code",
   "execution_count": 8,
   "metadata": {},
   "outputs": [],
   "source": [
    "# Assigning an IP to each item in the list (dirty code, but to demonstrate how theAPI works)\n",
    "\n",
    "n_interfaces[0].Nodes[0].SetAttribute('Address','192.168.0.130')\n",
    "n_interfaces[1].Nodes[0].SetAttribute('Address','192.168.0.131')\n",
    "n_interfaces[2].Nodes[0].SetAttribute('Address','192.168.0.132')"
   ]
  },
  {
   "cell_type": "code",
   "execution_count": 9,
   "metadata": {},
   "outputs": [],
   "source": [
    "# Creating subnet and IO system on the first item in the list\n",
    "# Connects to subnet for remaining devices, if IO device it gets assigned to the IO system\n",
    "for n in n_interfaces:\n",
    "    if n_interfaces.index(n) == 0:\n",
    "        subnet = n_interfaces[0].Nodes[0].CreateAndConnectToSubnet(\"Profinet\")\n",
    "        ioSystem = n_interfaces[0].IoControllers[0].CreateIoSystem(\"PNIO\");\n",
    "    else:\n",
    "        n_interfaces[n_interfaces.index(n)].Nodes[0].ConnectToSubnet(subnet)\n",
    "        if (n_interfaces[n_interfaces.index(n)].IoConnectors.Count) >> 0:\n",
    "            n_interfaces[n_interfaces.index(n)].IoConnectors[0].ConnectToIoSystem(ioSystem);"
   ]
  },
  {
   "cell_type": "markdown",
   "metadata": {},
   "source": [
    "# Compiling HW & SW\n"
   ]
  },
  {
   "cell_type": "code",
   "execution_count": 10,
   "metadata": {},
   "outputs": [
    {
     "name": "stdout",
     "output_type": "stream",
     "text": [
      "State: 2\n",
      "Warning Count: 2\n",
      "Error Count: 0\n",
      "Path: PLC1\n",
      "DateTime: 09/03/2020 17:48:10\n",
      "State: 2\n",
      "Description: \n",
      "Warning Count: 2\n",
      "Error Count: 0\n",
      "\n",
      "Path: Hardware configuration\n",
      "DateTime: 09/03/2020 17:48:12\n",
      "State: 2\n",
      "Description: \n",
      "Warning Count: 2\n",
      "Error Count: 0\n",
      "\n",
      "Path: PLC1\n",
      "DateTime: 09/03/2020 17:48:19\n",
      "State: 2\n",
      "Description:  \n",
      "Warning Count: 2\n",
      "Error Count: 0\n",
      "\n",
      "Path: Rail_0\n",
      "DateTime: 09/03/2020 17:48:19\n",
      "State: 2\n",
      "Description:  \n",
      "Warning Count: 2\n",
      "Error Count: 0\n",
      "\n",
      "Path: PLC1\n",
      "DateTime: 09/03/2020 17:48:19\n",
      "State: 2\n",
      "Description:  \n",
      "Warning Count: 2\n",
      "Error Count: 0\n",
      "\n",
      "Path: PLC1\n",
      "DateTime: 09/03/2020 17:48:19\n",
      "State: 2\n",
      "Description:  \n",
      "Warning Count: 1\n",
      "Error Count: 0\n",
      "\n",
      "Path: \n",
      "DateTime: 09/03/2020 17:48:19\n",
      "State: 2\n",
      "Description: PLC1 does not contain a configured protection level\n",
      "Warning Count: 1\n",
      "Error Count: 0\n",
      "\n",
      "Path: CPU display_1\n",
      "DateTime: 09/03/2020 17:48:19\n",
      "State: 2\n",
      "Description:  \n",
      "Warning Count: 1\n",
      "Error Count: 0\n",
      "\n",
      "Path: \n",
      "DateTime: 09/03/2020 17:48:19\n",
      "State: 2\n",
      "Description: The S7-1500 CPU display does not contain any password protection.\n",
      "Warning Count: 1\n",
      "Error Count: 0\n",
      "\n",
      "Path: Program blocks\n",
      "DateTime: 09/03/2020 17:48:30\n",
      "State: 0\n",
      "Description: \n",
      "Warning Count: 0\n",
      "Error Count: 0\n",
      "\n",
      "Path: Main (OB1)\n",
      "DateTime: 09/03/2020 17:48:30\n",
      "State: 0\n",
      "Description: Block was successfully compiled.\n",
      "Warning Count: 0\n",
      "Error Count: 0\n",
      "\n",
      "Path: None\n",
      "DateTime: 09/03/2020 17:48:33\n",
      "State: 2\n",
      "Description: Compiling finished (errors: 0; warnings: 2)\n",
      "Warning Count: 1\n",
      "Error Count: 0\n",
      "\n",
      "State: 0\n",
      "Warning Count: 0\n",
      "Error Count: 0\n",
      "Path: PLC1\n",
      "DateTime: 09/03/2020 17:48:39\n",
      "State: 1\n",
      "Description: \n",
      "Warning Count: 0\n",
      "Error Count: 0\n",
      "\n",
      "Path: Hardware configuration\n",
      "DateTime: 09/03/2020 17:48:39\n",
      "State: 1\n",
      "Description: \n",
      "Warning Count: 0\n",
      "Error Count: 0\n",
      "\n",
      "Path: None\n",
      "DateTime: 09/03/2020 17:48:40\n",
      "State: 1\n",
      "Description: Hardware was not compiled. The configuration is up-to-date.\n",
      "Warning Count: 0\n",
      "Error Count: 0\n",
      "\n",
      "Path: Program blocks\n",
      "DateTime: 09/03/2020 17:48:39\n",
      "State: 1\n",
      "Description: \n",
      "Warning Count: 0\n",
      "Error Count: 0\n",
      "\n",
      "Path: None\n",
      "DateTime: 09/03/2020 17:48:39\n",
      "State: 1\n",
      "Description: No block was compiled. All blocks are up-to-date.\n",
      "Warning Count: 0\n",
      "Error Count: 0\n",
      "\n",
      "Path: None\n",
      "DateTime: 09/03/2020 17:48:40\n",
      "State: 0\n",
      "Description: Compiling finished (errors: 0; warnings: 0)\n",
      "Warning Count: 0\n",
      "Error Count: 0\n",
      "\n",
      "State: 3\n",
      "Warning Count: 0\n",
      "Error Count: 1\n",
      "Path: HM1\n",
      "DateTime: 09/03/2020 17:48:47\n",
      "State: 3\n",
      "Description: \n",
      "Warning Count: 0\n",
      "Error Count: 1\n",
      "\n",
      "Path: Hardware configuration\n",
      "DateTime: 09/03/2020 17:48:47\n",
      "State: 0\n",
      "Description: \n",
      "Warning Count: 0\n",
      "Error Count: 0\n",
      "\n",
      "Path: None\n",
      "DateTime: 09/03/2020 17:49:06\n",
      "State: 1\n",
      "Description: Software compilation started.\n",
      "Warning Count: 0\n",
      "Error Count: 0\n",
      "\n",
      "Path: Runtime settings\n",
      "DateTime: 09/03/2020 17:49:42\n",
      "State: 3\n",
      "Description: \n",
      "Warning Count: 0\n",
      "Error Count: 1\n",
      "\n",
      "Path: None\n",
      "DateTime: 09/03/2020 17:49:42\n",
      "State: 3\n",
      "Description: A start screen has not been configured.\n",
      "Warning Count: 0\n",
      "Error Count: 1\n",
      "\n",
      "Path: None\n",
      "DateTime: 09/03/2020 17:49:42\n",
      "State: 1\n",
      "Description: Software compilation completed (device version: 15.1.0.0).\n",
      "Warning Count: 0\n",
      "Error Count: 0\n",
      "\n",
      "Path: None\n",
      "DateTime: 09/03/2020 17:49:43\n",
      "State: 3\n",
      "Description: Compiling finished (errors: 1; warnings: 0)\n",
      "Warning Count: 0\n",
      "Error Count: 1\n",
      "\n"
     ]
    }
   ],
   "source": [
    "# Defining method to recursively print error messages\n",
    "def print_comp(messages):\n",
    "    for msg in messages:\n",
    "        print(f'Path: {msg.Path}')\n",
    "        print(f'DateTime: {msg.DateTime}')\n",
    "        print(f'State: {msg.State}')\n",
    "        print(f'Description: {msg.Description}')\n",
    "        print(f'Warning Count: {msg.WarningCount}')\n",
    "        print(f'Error Count: {msg.ErrorCount}\\n')\n",
    "        print_comp(msg.Messages)\n",
    "    \n",
    "# Compiling all devices\n",
    "for device in myproject.Devices:\n",
    "    compile_service =  device.GetService[comp.ICompilable]()\n",
    "    result = compile_service.Compile()\n",
    "                \n",
    "    #Printing results from compiler\n",
    "    print(f'State: {result.State}')\n",
    "    print(f'Warning Count: {result.WarningCount}')\n",
    "    print(f'Error Count: {result.ErrorCount}')\n",
    "    print_comp(result.Messages)   \n",
    "\n",
    "        "
   ]
  },
  {
   "cell_type": "markdown",
   "metadata": {},
   "source": [
    "# Option to compile SW only\n"
   ]
  },
  {
   "cell_type": "code",
   "execution_count": 11,
   "metadata": {
    "scrolled": true
   },
   "outputs": [
    {
     "name": "stdout",
     "output_type": "stream",
     "text": [
      "compiling: PLC1\n",
      "State: 0\n",
      "Warning Count: 0\n",
      "Error Count: 0\n",
      "Path: PLC1\n",
      "DateTime: 09/03/2020 17:49:44\n",
      "State: 1\n",
      "Description: \n",
      "Warning Count: 0\n",
      "Error Count: 0\n",
      "\n",
      "Path: Program blocks\n",
      "DateTime: 09/03/2020 17:49:45\n",
      "State: 1\n",
      "Description: \n",
      "Warning Count: 0\n",
      "Error Count: 0\n",
      "\n",
      "Path: None\n",
      "DateTime: 09/03/2020 17:49:45\n",
      "State: 1\n",
      "Description: No block was compiled. All blocks are up-to-date.\n",
      "Warning Count: 0\n",
      "Error Count: 0\n",
      "\n",
      "Path: None\n",
      "DateTime: 09/03/2020 17:49:47\n",
      "State: 0\n",
      "Description: Compiling finished (errors: 0; warnings: 0)\n",
      "Warning Count: 0\n",
      "Error Count: 0\n",
      "\n",
      "compiling: HMI_RT_1\n",
      "State: 3\n",
      "Warning Count: 0\n",
      "Error Count: 1\n",
      "Path: HM1\n",
      "DateTime: 09/03/2020 17:49:49\n",
      "State: 3\n",
      "Description: \n",
      "Warning Count: 0\n",
      "Error Count: 1\n",
      "\n",
      "Path: None\n",
      "DateTime: 09/03/2020 17:49:49\n",
      "State: 1\n",
      "Description: Software compilation started.\n",
      "Warning Count: 0\n",
      "Error Count: 0\n",
      "\n",
      "Path: None\n",
      "DateTime: 09/03/2020 17:49:49\n",
      "State: 1\n",
      "Description: No HMI runtime-relevant changes have been made since the last error-free HMI compilation. New compilation is not necessary.\n",
      "Warning Count: 0\n",
      "Error Count: 0\n",
      "\n",
      "Path: Runtime settings\n",
      "DateTime: 09/03/2020 17:49:49\n",
      "State: 3\n",
      "Description: \n",
      "Warning Count: 0\n",
      "Error Count: 1\n",
      "\n",
      "Path: None\n",
      "DateTime: 09/03/2020 17:49:49\n",
      "State: 3\n",
      "Description: A start screen has not been configured.\n",
      "Warning Count: 0\n",
      "Error Count: 1\n",
      "\n",
      "Path: None\n",
      "DateTime: 09/03/2020 17:49:49\n",
      "State: 1\n",
      "Description: Software compilation completed (device version: 15.1.0.0).\n",
      "Warning Count: 0\n",
      "Error Count: 0\n",
      "\n",
      "Path: None\n",
      "DateTime: 09/03/2020 17:49:49\n",
      "State: 3\n",
      "Description: Compiling aborted (errors: 1; warnings: 0)\n",
      "Warning Count: 0\n",
      "Error Count: 1\n",
      "\n"
     ]
    }
   ],
   "source": [
    "# Defining method to recursively print error messages\n",
    "def print_comp(messages):\n",
    "    for msg in messages:\n",
    "        print(f'Path: {msg.Path}')\n",
    "        print(f'DateTime: {msg.DateTime}')\n",
    "        print(f'State: {msg.State}')\n",
    "        print(f'Description: {msg.Description}')\n",
    "        print(f'Warning Count: {msg.WarningCount}')\n",
    "        print(f'Error Count: {msg.ErrorCount}\\n')\n",
    "        print_comp(msg.Messages)\n",
    "    \n",
    "#compiling all sw in all devices\n",
    "for device in myproject.Devices:\n",
    "    device_item_aggregation = device.DeviceItems\n",
    "    for deviceitem in device_item_aggregation:   \n",
    "            software_container = tia.IEngineeringServiceProvider(deviceitem).GetService[hwf.SoftwareContainer]()\n",
    "            if (software_container != None):\n",
    "                print(f'compiling: {deviceitem.Name}')\n",
    "                software_base = software_container.Software\n",
    "                \n",
    "                compile_service =  software_base.GetService[comp.ICompilable]()\n",
    "                result = compile_service.Compile()\n",
    "                \n",
    "                #Printing results from compiler\n",
    "                print(f'State: {result.State}')\n",
    "                print(f'Warning Count: {result.WarningCount}')\n",
    "                print(f'Error Count: {result.ErrorCount}')\n",
    "                print_comp(result.Messages)   \n"
   ]
  },
  {
   "cell_type": "markdown",
   "metadata": {},
   "source": [
    "# Exporting \n",
    "\n",
    "    "
   ]
  },
  {
   "cell_type": "code",
   "execution_count": 12,
   "metadata": {},
   "outputs": [],
   "source": [
    "#Optional code to remove xml files that may allready exist on your computer\n",
    "try:\n",
    "    os.remove('C:\\\\Jonas\\\\TIA\\\\exports\\\\dummy.xml')\n",
    "except OSError:\n",
    "    pass\n",
    "try:\n",
    "    os.remove('C:\\\\Jonas\\\\TIA\\\\exports\\\\Main.xml')\n",
    "except OSError:\n",
    "    pass\n",
    "\n"
   ]
  },
  {
   "cell_type": "code",
   "execution_count": 13,
   "metadata": {},
   "outputs": [],
   "source": [
    "# exporting \"main\" from PLC1\n",
    "\n",
    "#export_path = FileInfo ('C:\\\\Jonas\\\\TIA\\\\exports\\\\Main.xml')\n",
    "software_container = tia.IEngineeringServiceProvider(PLC1.DeviceItems[1]).GetService[hwf.SoftwareContainer]()\n",
    "software_base = software_container.Software\n",
    "plc_block = software_base.BlockGroup.Blocks.Find(\"Main\")\n",
    "plc_block.Export(FileInfo('C:\\\\Jonas\\\\TIA\\\\exports\\\\Main.xml'), tia.ExportOptions.WithDefaults)\n",
    "\n",
    "# Exporting tagtable from PLC1\n",
    "tag_table_group = software_base.TagTableGroup\n",
    "#creating a dummy table to export\n",
    "tagtable = tag_table_group.TagTables.Create(\"dummy\")\n",
    "tagtable = tag_table_group.TagTables.Find(\"dummy\")\n",
    "tagtable.Export(FileInfo('C:\\\\Jonas\\\\TIA\\\\exports\\\\dummy.xml'), tia.ExportOptions.WithDefaults)\n",
    "\n",
    "\n",
    "#deleting block and tag table in project \n",
    "plc_block.Delete()\n",
    "tagtable.Delete()\n"
   ]
  },
  {
   "cell_type": "markdown",
   "metadata": {},
   "source": [
    "# Importing\n"
   ]
  },
  {
   "cell_type": "code",
   "execution_count": 14,
   "metadata": {},
   "outputs": [
    {
     "data": {
      "text/plain": [
       "<Siemens.Engineering.SW.Blocks.Internal.PlcBlockList at 0x24773777548>"
      ]
     },
     "execution_count": 14,
     "metadata": {},
     "output_type": "execute_result"
    }
   ],
   "source": [
    "# Importing the xml files back in to the project\n",
    "tag_table_group.TagTables.Import(FileInfo('C:\\\\Jonas\\\\TIA\\\\exports\\\\dummy.xml'), tia.ImportOptions.Override)\n",
    "software_base.BlockGroup.Blocks.Import(FileInfo('C:\\\\Jonas\\\\TIA\\\\exports\\\\Main.xml'), tia.ImportOptions.Override)\n"
   ]
  },
  {
   "cell_type": "code",
   "execution_count": 18,
   "metadata": {},
   "outputs": [
    {
     "ename": "AttributeError",
     "evalue": "'Project' object has no attribute 'Saveee'",
     "output_type": "error",
     "traceback": [
      "\u001b[1;31m---------------------------------------------------------------------------\u001b[0m",
      "\u001b[1;31mAttributeError\u001b[0m                            Traceback (most recent call last)",
      "\u001b[1;32m<ipython-input-18-a9736e4349c5>\u001b[0m in \u001b[0;36m<module>\u001b[1;34m\u001b[0m\n\u001b[1;32m----> 1\u001b[1;33m \u001b[0mmyproject\u001b[0m\u001b[1;33m.\u001b[0m\u001b[0mSaveee\u001b[0m\u001b[1;33m(\u001b[0m\u001b[1;33m)\u001b[0m\u001b[1;33m\u001b[0m\u001b[1;33m\u001b[0m\u001b[0m\n\u001b[0m",
      "\u001b[1;31mAttributeError\u001b[0m: 'Project' object has no attribute 'Saveee'"
     ]
    }
   ],
   "source": [
    "myproject.Save()"
   ]
  },
  {
   "cell_type": "code",
   "execution_count": 16,
   "metadata": {},
   "outputs": [],
   "source": [
    "myproject.Close()"
   ]
  },
  {
   "cell_type": "code",
   "execution_count": 17,
   "metadata": {},
   "outputs": [],
   "source": [
    "mytia.Dispose()"
   ]
  },
  {
   "cell_type": "code",
   "execution_count": 16,
   "metadata": {},
   "outputs": [
    {
     "name": "stdout",
     "output_type": "stream",
     "text": [
      "PN/IE\n"
     ]
    }
   ],
   "source": [
    "download_provider = tia.IEngineeringServiceProvider(PLC1.DeviceItems[1]).GetService[dl.DownloadProvider]()\n",
    "configuration = download_provider.Configuration\n",
    "for i in configuration.Modes:\n",
    "    print (i.Name)\n"
   ]
  },
  {
   "cell_type": "code",
   "execution_count": 17,
   "metadata": {},
   "outputs": [
    {
     "name": "stdout",
     "output_type": "stream",
     "text": [
      "PN/IE\n"
     ]
    }
   ],
   "source": [
    "#configuration_mode = configuration.Modes.Find(\"PN/IE\")\n",
    "# accessing directly first element, and printing to verify\n",
    "configuration_mode = configuration.Modes[0] \n",
    "print(configuration_mode.Name)\n"
   ]
  },
  {
   "cell_type": "code",
   "execution_count": 18,
   "metadata": {},
   "outputs": [
    {
     "name": "stdout",
     "output_type": "stream",
     "text": [
      "PLCSIM\n"
     ]
    }
   ],
   "source": [
    "for i in configuration_mode.PcInterfaces:\n",
    "    print(i.Name)"
   ]
  },
  {
   "cell_type": "code",
   "execution_count": 19,
   "metadata": {},
   "outputs": [
    {
     "name": "stdout",
     "output_type": "stream",
     "text": [
      "1 X1\n"
     ]
    }
   ],
   "source": [
    "target_configuration = configuration_mode.PcInterfaces[0].TargetInterfaces[0]\n",
    "print(target_configuration.Name)"
   ]
  },
  {
   "cell_type": "code",
   "execution_count": 20,
   "metadata": {},
   "outputs": [],
   "source": [
    "def PreConfigureDownload(downloadConfiguration):\n",
    "        print(\"en\")\n",
    "        stopModules = dl.Configurations.StopModules(downloadConfiguration)\n",
    "        if (stopModules != None):\n",
    "            stopModules.CurrentSelection = dl.Configurations.StopModulesSelections.StopAll\n",
    "            return\n",
    "        print(\"to\")\n",
    "\n",
    "        alarmTextLibraries = dl.Configurations.AlarmTextLibrariesDownload(downloadConfiguration)\n",
    "        if (alarmTextLibraries != None):\n",
    "            alarmTextLibraries.CurrentSelection = dl.Configurations.AlarmTextLibrariesDownloadSelections.ConsistentDownload\n",
    "            return\n",
    "        \n",
    "        blockBindingPassword =  dl.Configurations.BlockBindingPassword(downloadConfiguration)\n",
    "        if (blockBindingPassword != None):\n",
    "            password = None\n",
    "            dl.Configurations.blockBindingPassword.SetPassword(password)\n",
    "            return\n",
    "                   \n",
    "        checkBeforeDownload = dl.Configurations.CheckBeforeDownload(downloadConfiguration)\n",
    "        if (checkBeforeDownload != None):\n",
    "            checkBeforeDownload.Checked = true\n",
    "            return\n",
    "        \n",
    "        consistentBlocksDownload = dl.Configurations.ConsistentBlocksDownload(downloadConfiguration)\n",
    "        if (consistentBlocksDownload != None):\n",
    "            consistentBlocksDownload.CurrentSelection = dl.Configurations.ConsistentBlocksDownloadSelections.ConsistentDownload\n",
    "            return \n",
    "            \n",
    "        moduleWriteAccessPassword = dl.Configurations.ModuleWriteAccessPassword(downloadConfiguration)\n",
    "        if (moduleWriteAccessPassword != None):\n",
    "            password = None; \n",
    "            moduleWriteAccessPassword.SetPassword(password)\n",
    "            return \n",
    "            \n",
    "       \n"
   ]
  },
  {
   "cell_type": "code",
   "execution_count": 21,
   "metadata": {},
   "outputs": [],
   "source": [
    "def PostConfigureDownload(downloadConfiguration):\n",
    "    startModules = dl.Configurations.StartModules(downloadConfiguration)\n",
    "    if (startModules != None):\n",
    "        startModules.CurrentSelection = dl.Configurations.StartModulesSelections.StartModule\n",
    "    "
   ]
  },
  {
   "cell_type": "code",
   "execution_count": null,
   "metadata": {},
   "outputs": [],
   "source": []
  },
  {
   "cell_type": "code",
   "execution_count": 22,
   "metadata": {},
   "outputs": [
    {
     "ename": "NonRecoverableException",
     "evalue": "Error when calling method 'Download' of type 'Siemens.Engineering.Download.DownloadProvider'.\n   at Siemens.Engineering.Private.Session.Siemens.Engineering.Private.IInstanceSession.InvokeFunc[T,TC](LifetimeContractHandle`1 lifetimeContractHandle, String name, IEnumerable`1 parameters, String fullName)\r\n   at Siemens.Engineering.Private.InternalInstanceAccess`2.InvokeFunc[T](String name, IEnumerable`1 parameters)\r\n   at Siemens.Engineering.Download.DownloadProvider.Download(IConfiguration configuration, DownloadConfigurationDelegate preDownloadConfigurationDelegate, DownloadConfigurationDelegate postDownloadConfigurationDelegate, DownloadOptions downloadOptions)",
     "output_type": "error",
     "traceback": [
      "\u001b[1;31m---------------------------------------------------------------------------\u001b[0m",
      "\u001b[1;31mNonRecoverableException\u001b[0m                   Traceback (most recent call last)",
      "\u001b[1;32m<ipython-input-22-43c1dcf23cc3>\u001b[0m in \u001b[0;36m<module>\u001b[1;34m\u001b[0m\n\u001b[0;32m      1\u001b[0m \u001b[0mpre\u001b[0m \u001b[1;33m=\u001b[0m \u001b[0mdl\u001b[0m\u001b[1;33m.\u001b[0m\u001b[0mDownloadConfigurationDelegate\u001b[0m\u001b[1;33m(\u001b[0m\u001b[0mPreConfigureDownload\u001b[0m\u001b[1;33m)\u001b[0m\u001b[1;33m\u001b[0m\u001b[1;33m\u001b[0m\u001b[0m\n\u001b[0;32m      2\u001b[0m \u001b[0mpost\u001b[0m \u001b[1;33m=\u001b[0m \u001b[0mdl\u001b[0m\u001b[1;33m.\u001b[0m\u001b[0mDownloadConfigurationDelegate\u001b[0m\u001b[1;33m(\u001b[0m\u001b[0mPostConfigureDownload\u001b[0m\u001b[1;33m)\u001b[0m\u001b[1;33m\u001b[0m\u001b[1;33m\u001b[0m\u001b[0m\n\u001b[1;32m----> 3\u001b[1;33m \u001b[0mresult\u001b[0m \u001b[1;33m=\u001b[0m \u001b[0mdownload_provider\u001b[0m\u001b[1;33m.\u001b[0m\u001b[0mDownload\u001b[0m\u001b[1;33m(\u001b[0m\u001b[0mtarget_configuration\u001b[0m\u001b[1;33m,\u001b[0m\u001b[0mpre\u001b[0m\u001b[1;33m,\u001b[0m \u001b[0mpost\u001b[0m\u001b[1;33m,\u001b[0m \u001b[0mdl\u001b[0m\u001b[1;33m.\u001b[0m\u001b[0mDownloadOptions\u001b[0m\u001b[1;33m.\u001b[0m\u001b[0mHardware\u001b[0m \u001b[1;33m|\u001b[0m \u001b[0mdl\u001b[0m\u001b[1;33m.\u001b[0m\u001b[0mDownloadOptions\u001b[0m\u001b[1;33m.\u001b[0m\u001b[0mSoftware\u001b[0m \u001b[1;33m)\u001b[0m\u001b[1;33m\u001b[0m\u001b[1;33m\u001b[0m\u001b[0m\n\u001b[0m",
      "\u001b[1;31mNonRecoverableException\u001b[0m: Error when calling method 'Download' of type 'Siemens.Engineering.Download.DownloadProvider'.\n   at Siemens.Engineering.Private.Session.Siemens.Engineering.Private.IInstanceSession.InvokeFunc[T,TC](LifetimeContractHandle`1 lifetimeContractHandle, String name, IEnumerable`1 parameters, String fullName)\r\n   at Siemens.Engineering.Private.InternalInstanceAccess`2.InvokeFunc[T](String name, IEnumerable`1 parameters)\r\n   at Siemens.Engineering.Download.DownloadProvider.Download(IConfiguration configuration, DownloadConfigurationDelegate preDownloadConfigurationDelegate, DownloadConfigurationDelegate postDownloadConfigurationDelegate, DownloadOptions downloadOptions)"
     ]
    }
   ],
   "source": [
    "\n",
    "pre = dl.DownloadConfigurationDelegate(PreConfigureDownload)\n",
    "post = dl.DownloadConfigurationDelegate(PostConfigureDownload)\n",
    "result = download_provider.Download(target_configuration,pre, post, dl.DownloadOptions.Hardware | dl.DownloadOptions.Software )"
   ]
  },
  {
   "cell_type": "code",
   "execution_count": 73,
   "metadata": {},
   "outputs": [
    {
     "name": "stdout",
     "output_type": "stream",
     "text": [
      "['__call__', '__class__', '__delattr__', '__delete__', '__dir__', '__doc__', '__eq__', '__format__', '__ge__', '__getattribute__', '__getitem__', '__gt__', '__hash__', '__init__', '__init_subclass__', '__le__', '__lt__', '__module__', '__ne__', '__new__', '__reduce__', '__reduce_ex__', '__repr__', '__set__', '__setattr__', '__sizeof__', '__str__', '__subclasshook__']\n"
     ]
    }
   ],
   "source": [
    "print(dir(download_provider.Download))"
   ]
  },
  {
   "cell_type": "code",
   "execution_count": 114,
   "metadata": {},
   "outputs": [
    {
     "name": "stdout",
     "output_type": "stream",
     "text": [
      "<class 'Siemens.Engineering.Download.DownloadConfigurationDelegate'>\n"
     ]
    }
   ],
   "source": [
    "print(type(dl.DownloadConfigurationDelegate(post)))"
   ]
  },
  {
   "cell_type": "code",
   "execution_count": 89,
   "metadata": {},
   "outputs": [],
   "source": []
  },
  {
   "cell_type": "code",
   "execution_count": 105,
   "metadata": {},
   "outputs": [
    {
     "ename": "TypeError",
     "evalue": "No method matches given arguments for Download",
     "output_type": "error",
     "traceback": [
      "\u001b[1;31m---------------------------------------------------------------------------\u001b[0m",
      "\u001b[1;31mTypeError\u001b[0m                                 Traceback (most recent call last)",
      "\u001b[1;32m<ipython-input-105-fe753f4693a4>\u001b[0m in \u001b[0;36m<module>\u001b[1;34m\u001b[0m\n\u001b[0;32m      8\u001b[0m                                     \u001b[0mpreDownloadDelegate\u001b[0m\u001b[1;33m,\u001b[0m\u001b[1;33m\u001b[0m\u001b[1;33m\u001b[0m\u001b[0m\n\u001b[0;32m      9\u001b[0m                                     \u001b[0mpostDownloadDelegate\u001b[0m\u001b[1;33m,\u001b[0m\u001b[1;33m\u001b[0m\u001b[1;33m\u001b[0m\u001b[0m\n\u001b[1;32m---> 10\u001b[1;33m                                     \u001b[0mdl\u001b[0m\u001b[1;33m.\u001b[0m\u001b[0mDownloadOptions\u001b[0m\u001b[1;33m.\u001b[0m\u001b[0mHardware\u001b[0m\u001b[1;33m\u001b[0m\u001b[1;33m\u001b[0m\u001b[0m\n\u001b[0m\u001b[0;32m     11\u001b[0m                                    )\n",
      "\u001b[1;31mTypeError\u001b[0m: No method matches given arguments for Download"
     ]
    }
   ],
   "source": [
    "import System\n",
    "\n",
    "Action = getattr(System, \"Action`1\")\n",
    "Action2 = getattr(System, \"Action`2\")\n",
    "preDownloadDelegate = Action[dl.Configurations.DownloadConfiguration](PreConfigureDownload)\n",
    "postDownloadDelegate = Action2[dl.Configurations.DownloadConfiguration](PostConfigureDownload)\n",
    "result = download_provider.Download(target_configuration, \n",
    "                                    preDownloadDelegate,\n",
    "                                    postDownloadDelegate, \n",
    "                                    dl.DownloadOptions.Hardware \n",
    "                                    dl.DownloadOptions.Software\n",
    "                                   )"
   ]
  },
  {
   "cell_type": "code",
   "execution_count": 32,
   "metadata": {},
   "outputs": [],
   "source": []
  },
  {
   "cell_type": "code",
   "execution_count": 33,
   "metadata": {},
   "outputs": [
    {
     "name": "stdout",
     "output_type": "stream",
     "text": [
      "nn\n"
     ]
    }
   ],
   "source": []
  },
  {
   "cell_type": "code",
   "execution_count": null,
   "metadata": {},
   "outputs": [],
   "source": []
  }
 ],
 "metadata": {
  "kernelspec": {
   "display_name": "Python [conda env:openness_examples_python]",
   "language": "python",
   "name": "conda-env-openness_examples_python-py"
  },
  "language_info": {
   "codemirror_mode": {
    "name": "ipython",
    "version": 3
   },
   "file_extension": ".py",
   "mimetype": "text/x-python",
   "name": "python",
   "nbconvert_exporter": "python",
   "pygments_lexer": "ipython3",
   "version": "3.7.6"
  }
 },
 "nbformat": 4,
 "nbformat_minor": 2
}
